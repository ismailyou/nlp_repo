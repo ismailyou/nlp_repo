{
  "nbformat": 4,
  "nbformat_minor": 0,
  "metadata": {
    "colab": {
      "name": "word_embedding_keras.ipynb",
      "provenance": [],
      "collapsed_sections": []
    },
    "kernelspec": {
      "name": "python3",
      "display_name": "Python 3"
    },
    "language_info": {
      "name": "python"
    }
  },
  "cells": [
    {
      "cell_type": "markdown",
      "metadata": {
        "id": "_SQiJ6tewvbu"
      },
      "source": [
        "# Word Embedding techniques using Embedding layer in keras"
      ]
    },
    {
      "cell_type": "markdown",
      "metadata": {
        "id": "lqNT1Wodw_9a"
      },
      "source": [
        "### Load Libraries"
      ]
    },
    {
      "cell_type": "code",
      "metadata": {
        "id": "nqKJL99-xQtg"
      },
      "source": [
        "from keras.preprocessing.text import one_hot"
      ],
      "execution_count": 1,
      "outputs": []
    },
    {
      "cell_type": "markdown",
      "metadata": {
        "id": "SY50MKhtxRix"
      },
      "source": [
        "### Load Data"
      ]
    },
    {
      "cell_type": "code",
      "metadata": {
        "id": "I2eGJPUexVLf"
      },
      "source": [
        "english_text = \"\"\"Perhaps one of the most significant advances in  made by Arabic mathematics began at this time with the work of al-Khwarizmi, namely the beginnings of algebra. It is important to understand just how significant this new idea was. It was a revolutionary move away from the Greek concept of mathematics which was essentially geometry. Algebra was a unifying theory which allowedrational numbers,irrational numbers, geometrical magnitudes, etc., to all be treated as \\\"algebraic objects\\\". It gave mathematics a whole new development path so much broader in concept to that which had existed before, and provided a vehicle for future development of the subject. Another important aspect of the introduction of algebraic ideas was that it allowed mathematics to be applied to itselfin a way which had not happened before.\"\"\""
      ],
      "execution_count": 2,
      "outputs": []
    },
    {
      "cell_type": "code",
      "metadata": {
        "colab": {
          "base_uri": "https://localhost:8080/",
          "height": 120
        },
        "id": "sQKAdBNqxZ0S",
        "outputId": "461cc525-0ad2-41c4-b754-1d7d87ab8ae1"
      },
      "source": [
        "english_text"
      ],
      "execution_count": 3,
      "outputs": [
        {
          "output_type": "execute_result",
          "data": {
            "application/vnd.google.colaboratory.intrinsic+json": {
              "type": "string"
            },
            "text/plain": [
              "'Perhaps one of the most significant advances in  made by Arabic mathematics began at this time with the work of al-Khwarizmi, namely the beginnings of algebra. It is important to understand just how significant this new idea was. It was a revolutionary move away from the Greek concept of mathematics which was essentially geometry. Algebra was a unifying theory which allowedrational numbers,irrational numbers, geometrical magnitudes, etc., to all be treated as \"algebraic objects\". It gave mathematics a whole new development path so much broader in concept to that which had existed before, and provided a vehicle for future development of the subject. Another important aspect of the introduction of algebraic ideas was that it allowed mathematics to be applied to itselfin a way which had not happened before.'"
            ]
          },
          "metadata": {
            "tags": []
          },
          "execution_count": 3
        }
      ]
    },
    {
      "cell_type": "markdown",
      "metadata": {
        "id": "WeS4Kx6xxhcK"
      },
      "source": [
        "### Data Cleaning"
      ]
    },
    {
      "cell_type": "code",
      "metadata": {
        "colab": {
          "base_uri": "https://localhost:8080/",
          "height": 120
        },
        "id": "1u_ku6CH2ArJ",
        "outputId": "bcbe796e-7a9c-4420-d89e-b96d0bafe3cf"
      },
      "source": [
        "english_text"
      ],
      "execution_count": 4,
      "outputs": [
        {
          "output_type": "execute_result",
          "data": {
            "application/vnd.google.colaboratory.intrinsic+json": {
              "type": "string"
            },
            "text/plain": [
              "'Perhaps one of the most significant advances in  made by Arabic mathematics began at this time with the work of al-Khwarizmi, namely the beginnings of algebra. It is important to understand just how significant this new idea was. It was a revolutionary move away from the Greek concept of mathematics which was essentially geometry. Algebra was a unifying theory which allowedrational numbers,irrational numbers, geometrical magnitudes, etc., to all be treated as \"algebraic objects\". It gave mathematics a whole new development path so much broader in concept to that which had existed before, and provided a vehicle for future development of the subject. Another important aspect of the introduction of algebraic ideas was that it allowed mathematics to be applied to itselfin a way which had not happened before.'"
            ]
          },
          "metadata": {
            "tags": []
          },
          "execution_count": 4
        }
      ]
    },
    {
      "cell_type": "code",
      "metadata": {
        "colab": {
          "base_uri": "https://localhost:8080/"
        },
        "id": "I3BL7OyN0nwf",
        "outputId": "f73925ee-1f4b-4c9b-c80b-485b17c8cabf"
      },
      "source": [
        "import re\n",
        "import nltk\n",
        "from nltk.corpus import stopwords\n",
        "nltk.download('punkt')\n",
        "\n",
        "nltk.download('stopwords')\n",
        "english_sentences = nltk.sent_tokenize(english_text)\n",
        "corpus = []\n",
        "for sent in english_sentences:\n",
        "  cleaned = re.sub('[^a-zA-Z]', ' ', sent)\n",
        "  cleaned = nltk.word_tokenize(cleaned.lower())\n",
        "  stop_word_remove = [x for x in cleaned if not x in set(stopwords.words(\"english\"))]\n",
        "  stop_word_remove = ' '.join(stop_word_remove)\n",
        "  corpus.append(stop_word_remove)"
      ],
      "execution_count": 5,
      "outputs": [
        {
          "output_type": "stream",
          "text": [
            "[nltk_data] Downloading package punkt to /root/nltk_data...\n",
            "[nltk_data]   Unzipping tokenizers/punkt.zip.\n",
            "[nltk_data] Downloading package stopwords to /root/nltk_data...\n",
            "[nltk_data]   Unzipping corpora/stopwords.zip.\n"
          ],
          "name": "stdout"
        }
      ]
    },
    {
      "cell_type": "code",
      "metadata": {
        "colab": {
          "base_uri": "https://localhost:8080/",
          "height": 120
        },
        "id": "yusn5BRd0yXd",
        "outputId": "191aac4f-eb8b-415d-9475-cf1329cc6a06"
      },
      "source": [
        "english_text"
      ],
      "execution_count": 6,
      "outputs": [
        {
          "output_type": "execute_result",
          "data": {
            "application/vnd.google.colaboratory.intrinsic+json": {
              "type": "string"
            },
            "text/plain": [
              "'Perhaps one of the most significant advances in  made by Arabic mathematics began at this time with the work of al-Khwarizmi, namely the beginnings of algebra. It is important to understand just how significant this new idea was. It was a revolutionary move away from the Greek concept of mathematics which was essentially geometry. Algebra was a unifying theory which allowedrational numbers,irrational numbers, geometrical magnitudes, etc., to all be treated as \"algebraic objects\". It gave mathematics a whole new development path so much broader in concept to that which had existed before, and provided a vehicle for future development of the subject. Another important aspect of the introduction of algebraic ideas was that it allowed mathematics to be applied to itselfin a way which had not happened before.'"
            ]
          },
          "metadata": {
            "tags": []
          },
          "execution_count": 6
        }
      ]
    },
    {
      "cell_type": "code",
      "metadata": {
        "colab": {
          "base_uri": "https://localhost:8080/"
        },
        "id": "CoajJ1Xdxgl8",
        "outputId": "405989b6-5e0d-4c5e-e8ee-8446861b0edb"
      },
      "source": [
        "corpus"
      ],
      "execution_count": 7,
      "outputs": [
        {
          "output_type": "execute_result",
          "data": {
            "text/plain": [
              "['perhaps one significant advances made arabic mathematics began time work al khwarizmi namely beginnings algebra',\n",
              " 'important understand significant new idea',\n",
              " 'revolutionary move away greek concept mathematics essentially geometry',\n",
              " 'algebra unifying theory allowedrational numbers irrational numbers geometrical magnitudes etc treated algebraic objects',\n",
              " 'gave mathematics whole new development path much broader concept existed provided vehicle future development subject',\n",
              " 'another important aspect introduction algebraic ideas allowed mathematics applied itselfin way happened']"
            ]
          },
          "metadata": {
            "tags": []
          },
          "execution_count": 7
        }
      ]
    },
    {
      "cell_type": "code",
      "metadata": {
        "colab": {
          "base_uri": "https://localhost:8080/"
        },
        "id": "3pT3WRUjxk4c",
        "outputId": "d29ababb-76f9-4ada-f1d6-31d5fa00b3fd"
      },
      "source": [
        "len(corpus)"
      ],
      "execution_count": 8,
      "outputs": [
        {
          "output_type": "execute_result",
          "data": {
            "text/plain": [
              "6"
            ]
          },
          "metadata": {
            "tags": []
          },
          "execution_count": 8
        }
      ]
    },
    {
      "cell_type": "markdown",
      "metadata": {
        "id": "O290zJQl4VP7"
      },
      "source": [
        "### Define Parameter"
      ]
    },
    {
      "cell_type": "code",
      "metadata": {
        "id": "ZSPxBbnV4o7q"
      },
      "source": [
        "vocabulary_size = 10000\n",
        "dimensions = 3"
      ],
      "execution_count": 9,
      "outputs": []
    },
    {
      "cell_type": "markdown",
      "metadata": {
        "id": "kq53Sg1w40Ra"
      },
      "source": [
        "## One Hot Representation"
      ]
    },
    {
      "cell_type": "markdown",
      "metadata": {
        "id": "-AVgO7mP9fkT"
      },
      "source": [
        "For each word in sentences, we are getting his index in the vocabulary"
      ]
    },
    {
      "cell_type": "code",
      "metadata": {
        "id": "JZr2tKVa44ii"
      },
      "source": [
        "one_hot_rep = [one_hot(sent, vocabulary_size) for sent in corpus]"
      ],
      "execution_count": 10,
      "outputs": []
    },
    {
      "cell_type": "code",
      "metadata": {
        "colab": {
          "base_uri": "https://localhost:8080/"
        },
        "id": "pSX19AJR5dwY",
        "outputId": "5b997369-9b88-4d51-8dda-b9f906cf7baf"
      },
      "source": [
        "print(one_hot_rep)"
      ],
      "execution_count": 11,
      "outputs": [
        {
          "output_type": "stream",
          "text": [
            "[[7553, 2745, 5746, 7083, 9041, 9454, 1257, 4426, 8852, 1321, 9781, 6648, 8747, 1348, 6288], [1675, 1639, 5746, 7810, 9662], [4780, 7322, 8197, 809, 1027, 1257, 4297, 7852], [6288, 9095, 8742, 9760, 3014, 9792, 3014, 6695, 9932, 312, 3554, 4893, 168], [7881, 1257, 4290, 7810, 9495, 5159, 4400, 1337, 1027, 2115, 7887, 864, 1721, 9495, 1924], [6604, 1675, 26, 9914, 4893, 5503, 1921, 1257, 2413, 5365, 2199, 2576]]\n"
          ],
          "name": "stdout"
        }
      ]
    },
    {
      "cell_type": "markdown",
      "metadata": {
        "id": "9eoto7vH5NdK"
      },
      "source": [
        "## Word Embedding Representation"
      ]
    },
    {
      "cell_type": "code",
      "metadata": {
        "id": "Na12ruPB9Kwj"
      },
      "source": [
        "from tensorflow.keras.layers import Embedding\n",
        "from tensorflow.keras.preprocessing.sequence import pad_sequences\n",
        "from tensorflow.keras.models import Sequential"
      ],
      "execution_count": 12,
      "outputs": []
    },
    {
      "cell_type": "code",
      "metadata": {
        "colab": {
          "base_uri": "https://localhost:8080/"
        },
        "id": "GtF-WPcS5J0Z",
        "outputId": "8b3725b0-ab5f-4f57-8c3a-03b697e0633f"
      },
      "source": [
        "## Get max lenght of sentence\n",
        "for sent in corpus:\n",
        "  print(len(sent.split()))"
      ],
      "execution_count": 13,
      "outputs": [
        {
          "output_type": "stream",
          "text": [
            "15\n",
            "5\n",
            "8\n",
            "13\n",
            "15\n",
            "12\n"
          ],
          "name": "stdout"
        }
      ]
    },
    {
      "cell_type": "code",
      "metadata": {
        "id": "aDP0OZmr_Pwe"
      },
      "source": [
        "max_lenght = 15"
      ],
      "execution_count": 14,
      "outputs": []
    },
    {
      "cell_type": "markdown",
      "metadata": {
        "id": "A51FVtvta5Mw"
      },
      "source": [
        "#### Convert all vectors to the same lenght"
      ]
    },
    {
      "cell_type": "code",
      "metadata": {
        "colab": {
          "base_uri": "https://localhost:8080/"
        },
        "id": "0Cvs7VaW5LIY",
        "outputId": "b5e3515e-7a2b-4f87-92c9-4ded88ee0d8e"
      },
      "source": [
        "Embedded_docs = pad_sequences(one_hot_rep, padding='pre', maxlen=max_lenght)\n",
        "print(Embedded_docs)"
      ],
      "execution_count": 16,
      "outputs": [
        {
          "output_type": "stream",
          "text": [
            "[[7553 2745 5746 7083 9041 9454 1257 4426 8852 1321 9781 6648 8747 1348\n",
            "  6288]\n",
            " [   0    0    0    0    0    0    0    0    0    0 1675 1639 5746 7810\n",
            "  9662]\n",
            " [   0    0    0    0    0    0    0 4780 7322 8197  809 1027 1257 4297\n",
            "  7852]\n",
            " [   0    0 6288 9095 8742 9760 3014 9792 3014 6695 9932  312 3554 4893\n",
            "   168]\n",
            " [7881 1257 4290 7810 9495 5159 4400 1337 1027 2115 7887  864 1721 9495\n",
            "  1924]\n",
            " [   0    0    0 6604 1675   26 9914 4893 5503 1921 1257 2413 5365 2199\n",
            "  2576]]\n"
          ],
          "name": "stdout"
        }
      ]
    },
    {
      "cell_type": "code",
      "metadata": {
        "id": "_kxmJGw3a-tB"
      },
      "source": [
        "dimensions = 20"
      ],
      "execution_count": 17,
      "outputs": []
    },
    {
      "cell_type": "code",
      "metadata": {
        "id": "WDJykadDa_GR"
      },
      "source": [
        "model = Sequential()\n",
        "\n",
        "model.add(Embedding(vocabulary_size, dimensions, input_length=max_lenght))\n",
        "model.compile('adam', 'mse')"
      ],
      "execution_count": 20,
      "outputs": []
    },
    {
      "cell_type": "code",
      "metadata": {
        "colab": {
          "base_uri": "https://localhost:8080/"
        },
        "id": "iQJloBn2bpM5",
        "outputId": "98d73055-1132-47c1-f712-3706ade8e871"
      },
      "source": [
        "model.summary()"
      ],
      "execution_count": 26,
      "outputs": [
        {
          "output_type": "stream",
          "text": [
            "Model: \"sequential_2\"\n",
            "_________________________________________________________________\n",
            "Layer (type)                 Output Shape              Param #   \n",
            "=================================================================\n",
            "embedding (Embedding)        (None, 15, 20)            200000    \n",
            "=================================================================\n",
            "Total params: 200,000\n",
            "Trainable params: 200,000\n",
            "Non-trainable params: 0\n",
            "_________________________________________________________________\n"
          ],
          "name": "stdout"
        }
      ]
    },
    {
      "cell_type": "markdown",
      "metadata": {
        "id": "aL-d3qdgc4o5"
      },
      "source": [
        "#### Embedding Matric"
      ]
    },
    {
      "cell_type": "code",
      "metadata": {
        "colab": {
          "base_uri": "https://localhost:8080/"
        },
        "id": "sq2ZPmlnb0Nw",
        "outputId": "777b8052-bd2b-4625-e5ae-3a5037c28a3a"
      },
      "source": [
        "print(model.predict(Embedded_docs))"
      ],
      "execution_count": 22,
      "outputs": [
        {
          "output_type": "stream",
          "text": [
            "[[[-0.0427902  -0.04847389 -0.04603308 ... -0.04576445 -0.02128353\n",
            "    0.00405754]\n",
            "  [ 0.01261211 -0.0113859  -0.04223588 ...  0.01363099  0.00328436\n",
            "   -0.04418647]\n",
            "  [-0.01511942 -0.00636585  0.02926222 ...  0.04974481  0.000705\n",
            "   -0.04855983]\n",
            "  ...\n",
            "  [-0.01945938 -0.02246976  0.02172699 ...  0.04347995 -0.02497318\n",
            "    0.02813511]\n",
            "  [-0.02353998  0.02811073  0.04367189 ... -0.00953877  0.0168567\n",
            "    0.03753323]\n",
            "  [ 0.04361914  0.00519378  0.02555257 ... -0.01409789 -0.00665547\n",
            "   -0.01486976]]\n",
            "\n",
            " [[-0.03935535  0.01950193 -0.04968914 ... -0.02960539  0.01438368\n",
            "   -0.01437724]\n",
            "  [-0.03935535  0.01950193 -0.04968914 ... -0.02960539  0.01438368\n",
            "   -0.01437724]\n",
            "  [-0.03935535  0.01950193 -0.04968914 ... -0.02960539  0.01438368\n",
            "   -0.01437724]\n",
            "  ...\n",
            "  [-0.01511942 -0.00636585  0.02926222 ...  0.04974481  0.000705\n",
            "   -0.04855983]\n",
            "  [ 0.03856099 -0.01051296  0.00967028 ... -0.03198502  0.0376736\n",
            "   -0.0315864 ]\n",
            "  [-0.00089426  0.03352723  0.00718429 ... -0.01812184 -0.04363843\n",
            "   -0.03269758]]\n",
            "\n",
            " [[-0.03935535  0.01950193 -0.04968914 ... -0.02960539  0.01438368\n",
            "   -0.01437724]\n",
            "  [-0.03935535  0.01950193 -0.04968914 ... -0.02960539  0.01438368\n",
            "   -0.01437724]\n",
            "  [-0.03935535  0.01950193 -0.04968914 ... -0.02960539  0.01438368\n",
            "   -0.01437724]\n",
            "  ...\n",
            "  [ 0.00465556 -0.00476637 -0.04390379 ...  0.03945993  0.01275149\n",
            "   -0.02208734]\n",
            "  [ 0.0281576  -0.01694848 -0.0381515  ... -0.0225945   0.03447298\n",
            "    0.03426207]\n",
            "  [-0.02342641 -0.01900013 -0.02517823 ...  0.0390924   0.00945593\n",
            "    0.00711494]]\n",
            "\n",
            " [[-0.03935535  0.01950193 -0.04968914 ... -0.02960539  0.01438368\n",
            "   -0.01437724]\n",
            "  [-0.03935535  0.01950193 -0.04968914 ... -0.02960539  0.01438368\n",
            "   -0.01437724]\n",
            "  [ 0.04361914  0.00519378  0.02555257 ... -0.01409789 -0.00665547\n",
            "   -0.01486976]\n",
            "  ...\n",
            "  [ 0.0306219  -0.03942717  0.00049292 ...  0.02511689 -0.01284285\n",
            "   -0.01199501]\n",
            "  [-0.02917933  0.01825321 -0.03613266 ...  0.0224204   0.01159817\n",
            "    0.01832623]\n",
            "  [-0.04158401  0.03740157  0.00178974 ... -0.03183072  0.01599601\n",
            "    0.01949063]]\n",
            "\n",
            " [[-0.03212326 -0.02839577 -0.0050083  ...  0.00339866 -0.04136454\n",
            "   -0.00425977]\n",
            "  [ 0.00465556 -0.00476637 -0.04390379 ...  0.03945993  0.01275149\n",
            "   -0.02208734]\n",
            "  [ 0.03685996  0.03496553  0.03301867 ... -0.04256136 -0.02997593\n",
            "    0.02645931]\n",
            "  ...\n",
            "  [-0.01546408 -0.00903332  0.01450386 ... -0.02050996 -0.01675548\n",
            "    0.01465603]\n",
            "  [-0.00564853 -0.02687544  0.0141652  ... -0.03306045 -0.00049891\n",
            "    0.04079268]\n",
            "  [-0.01259351  0.04277083  0.02990994 ... -0.0330655  -0.03964796\n",
            "    0.01163625]]\n",
            "\n",
            " [[-0.03935535  0.01950193 -0.04968914 ... -0.02960539  0.01438368\n",
            "   -0.01437724]\n",
            "  [-0.03935535  0.01950193 -0.04968914 ... -0.02960539  0.01438368\n",
            "   -0.01437724]\n",
            "  [-0.03935535  0.01950193 -0.04968914 ... -0.02960539  0.01438368\n",
            "   -0.01437724]\n",
            "  ...\n",
            "  [-0.03026762  0.04533818  0.02797724 ...  0.01151203  0.04657991\n",
            "    0.04643745]\n",
            "  [ 0.01807573 -0.02557467  0.03961302 ...  0.048025    0.02325013\n",
            "    0.01794541]\n",
            "  [ 0.04049974  0.00336935 -0.00635123 ...  0.00015206 -0.042241\n",
            "    0.01202134]]]\n"
          ],
          "name": "stdout"
        }
      ]
    },
    {
      "cell_type": "code",
      "metadata": {
        "colab": {
          "base_uri": "https://localhost:8080/"
        },
        "id": "37wnHmebcXFi",
        "outputId": "d6effa65-8e6b-4456-c1c4-93941a4561e8"
      },
      "source": [
        "Embedded_docs[0]"
      ],
      "execution_count": 24,
      "outputs": [
        {
          "output_type": "execute_result",
          "data": {
            "text/plain": [
              "array([7553, 2745, 5746, 7083, 9041, 9454, 1257, 4426, 8852, 1321, 9781,\n",
              "       6648, 8747, 1348, 6288], dtype=int32)"
            ]
          },
          "metadata": {
            "tags": []
          },
          "execution_count": 24
        }
      ]
    },
    {
      "cell_type": "code",
      "metadata": {
        "colab": {
          "base_uri": "https://localhost:8080/"
        },
        "id": "CkeJC69TcahX",
        "outputId": "b431b2a3-1ff2-460b-aced-ce9da035beda"
      },
      "source": [
        "print(model.predict(Embedded_docs)[0])"
      ],
      "execution_count": 25,
      "outputs": [
        {
          "output_type": "stream",
          "text": [
            "[[-4.27902006e-02 -4.84738946e-02 -4.60330844e-02 -5.36127016e-03\n",
            "   3.83434556e-02  3.71821411e-02 -1.00387558e-02 -1.40544027e-03\n",
            "  -4.17988077e-02  3.93988937e-03  4.98488657e-02 -9.01416689e-03\n",
            "   4.52711321e-02 -3.29205878e-02  1.50269978e-02  1.03565082e-02\n",
            "  -4.63032238e-02 -4.57644463e-02 -2.12835316e-02  4.05753776e-03]\n",
            " [ 1.26121081e-02 -1.13858953e-02 -4.22358774e-02  3.21129598e-02\n",
            "  -2.01909784e-02  2.59012021e-02  4.53926250e-03  2.08758004e-02\n",
            "  -2.91516669e-02  2.31784247e-02 -4.56436276e-02 -3.05805095e-02\n",
            "   1.40910037e-02 -1.33065805e-02 -2.35776305e-02 -1.26406923e-02\n",
            "  -1.92021616e-02  1.36309899e-02  3.28435749e-03 -4.41864729e-02]\n",
            " [-1.51194222e-02 -6.36584684e-03  2.92622186e-02 -3.64180580e-02\n",
            "  -3.86753678e-02 -4.39455360e-03 -3.68689299e-02  3.10438015e-02\n",
            "   2.99994834e-02  3.69051360e-02 -4.09891978e-02  2.53283046e-02\n",
            "  -2.69523393e-02  1.06595047e-02  3.94217633e-02  4.97905053e-02\n",
            "  -2.42841728e-02  4.97448109e-02  7.05003738e-04 -4.85598333e-02]\n",
            " [-7.43811205e-03 -4.71575037e-02 -3.14706564e-02  3.48091125e-03\n",
            "   4.15396690e-03 -9.25583765e-03  2.47958787e-02 -1.84405819e-02\n",
            "   3.30255367e-02  2.19669230e-02  5.35997003e-03  1.04102008e-02\n",
            "  -1.45376697e-02 -2.69322526e-02  3.71135734e-02  1.64270289e-02\n",
            "   2.94716693e-02 -3.71245854e-02  2.08208002e-02  4.62465920e-02]\n",
            " [ 1.90325268e-02  1.71520822e-02  1.70148350e-02 -9.18973610e-03\n",
            "   3.04969810e-02 -5.72912395e-05 -2.70017870e-02  4.16238196e-02\n",
            "  -8.84927437e-03 -1.91079024e-02 -2.53342148e-02  3.36551666e-03\n",
            "  -1.94189679e-02  3.57967056e-02 -3.80033366e-02 -4.79598530e-02\n",
            "  -4.02414314e-02 -2.96961069e-02 -8.62971693e-03 -2.19077822e-02]\n",
            " [-4.76557612e-02  3.82847451e-02  3.45985554e-02 -2.07841881e-02\n",
            "  -1.06341019e-02  3.29604186e-02 -3.34840901e-02 -3.27970609e-02\n",
            "  -4.93452437e-02  2.07624771e-02  4.54476215e-02  7.23464414e-03\n",
            "  -6.88428804e-03 -5.65851852e-03  3.28721516e-02  3.91452201e-02\n",
            "  -4.13437113e-02  4.47770245e-02  4.25195731e-02 -4.65711132e-02]\n",
            " [ 4.65556234e-03 -4.76636738e-03 -4.39037941e-02  4.97168303e-03\n",
            "   2.08055861e-02  3.30202468e-02  3.28585766e-02 -2.69292351e-02\n",
            "   2.80746259e-02 -1.88775659e-02 -3.30788977e-02  1.25149600e-02\n",
            "  -1.89298745e-02 -3.41930874e-02 -4.11815643e-02 -2.19424255e-02\n",
            "   3.58306803e-02  3.94599326e-02  1.27514862e-02 -2.20873356e-02]\n",
            " [-3.14225778e-02 -1.00501888e-02 -4.60206978e-02  4.46902402e-02\n",
            "  -2.84907706e-02 -2.98442375e-02 -1.13337263e-02  1.73072480e-02\n",
            "   2.60187052e-02  2.83521414e-03  2.34539993e-02 -2.75607351e-02\n",
            "  -1.32282861e-02 -1.84872001e-03  2.79370658e-02  4.94484939e-02\n",
            "   4.84645627e-02  1.00488774e-02 -2.78190523e-03 -2.78938301e-02]\n",
            " [ 1.68239214e-02 -8.95778090e-03 -3.28861251e-02 -4.70020548e-02\n",
            "  -4.03017290e-02  3.18907611e-02  4.81735505e-02  3.10023166e-02\n",
            "  -4.93157394e-02  4.75457571e-02 -4.53174375e-02  6.61436468e-03\n",
            "   1.77348740e-02 -1.87907573e-02 -3.52209695e-02  1.39181949e-02\n",
            "  -1.36059299e-02  1.75925381e-02 -4.91502658e-02 -2.06391215e-02]\n",
            " [ 6.11229986e-03 -2.91303750e-02 -3.08534633e-02  2.87306570e-02\n",
            "   9.70959663e-04 -3.16274054e-02 -6.49101660e-03 -2.04413421e-02\n",
            "   1.62728913e-02 -1.51567087e-02  2.13058330e-02  8.57662410e-04\n",
            "  -1.14419237e-02 -3.76190990e-03  4.60018627e-02  2.66195647e-02\n",
            "   4.65997569e-02 -2.86775231e-02  1.94894187e-02 -3.41361910e-02]\n",
            " [-1.80055276e-02  3.72963659e-02 -2.33271476e-02 -4.27883863e-03\n",
            "  -2.60145906e-02  4.51934598e-02  2.33919546e-03  3.85474451e-02\n",
            "  -2.60040909e-03 -4.41420823e-04 -4.77902964e-03  4.29832451e-02\n",
            "   4.13255207e-02 -2.41656788e-02 -3.85183208e-02  2.01872848e-02\n",
            "   2.55146287e-02  2.02827789e-02  2.71297991e-04 -3.78359109e-04]\n",
            " [-1.81734189e-02 -2.81961560e-02  4.34184708e-02 -3.96571532e-02\n",
            "  -6.57043606e-03  2.34687962e-02 -3.27579975e-02  2.00856589e-02\n",
            "   4.98997085e-02  2.99176835e-02  7.08429888e-03  2.36605443e-02\n",
            "   1.77159570e-02 -1.23445168e-02 -9.91273671e-04  4.91881408e-02\n",
            "  -1.44256577e-02  2.10152976e-02  1.76850222e-02  3.19628790e-03]\n",
            " [-1.94593798e-02 -2.24697590e-02  2.17269920e-02 -1.99426766e-02\n",
            "   4.29130234e-02  3.91481854e-02 -6.65161759e-03  1.10813268e-02\n",
            "   4.34315093e-02  1.00549087e-02 -2.22707912e-03 -1.17539391e-02\n",
            "  -3.73887047e-02 -1.03042945e-02  3.35159339e-02 -1.22463219e-02\n",
            "   9.71747562e-03  4.34799530e-02 -2.49731783e-02  2.81351097e-02]\n",
            " [-2.35399846e-02  2.81107314e-02  4.36718948e-02  4.31789495e-02\n",
            "  -6.28341362e-03  7.48587772e-03  1.86971575e-03  3.93216647e-02\n",
            "  -1.38547309e-02  2.11294740e-03 -2.14700941e-02  3.34397443e-02\n",
            "   1.07328184e-02 -2.39563826e-02  2.37295292e-02 -4.68207374e-02\n",
            "   2.81871296e-02 -9.53876972e-03  1.68566965e-02  3.75332274e-02]\n",
            " [ 4.36191447e-02  5.19378111e-03  2.55525745e-02 -4.78280075e-02\n",
            "   1.01714209e-03 -3.04014571e-02 -4.92740050e-02  1.70698501e-02\n",
            "  -3.15987617e-02 -8.70821625e-03  2.80828811e-02 -1.62336826e-02\n",
            "  -3.36629152e-02 -2.84978151e-02  1.12536550e-02  3.39570753e-02\n",
            "   4.22223546e-02 -1.40978917e-02 -6.65546581e-03 -1.48697607e-02]]\n"
          ],
          "name": "stdout"
        }
      ]
    },
    {
      "cell_type": "code",
      "metadata": {
        "id": "7mkkMrRZcb6C"
      },
      "source": [
        ""
      ],
      "execution_count": null,
      "outputs": []
    }
  ]
}