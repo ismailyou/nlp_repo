{
 "cells": [
  {
   "cell_type": "markdown",
   "metadata": {},
   "source": [
    "# Word2Vec Model"
   ]
  },
  {
   "cell_type": "markdown",
   "metadata": {},
   "source": [
    "### The main problem with BOW & TF-IDF\n",
    "\n",
    "    -It does not capture position in text, semantics, co-occurrences in different documents.\n",
    "    -TF-IDF gives importance to nuncommun word\n",
    "    -Very high channce of overfitting\n",
    "\n",
    "### Solution :\n",
    "   ***Word2Vec***:\n",
    "   - Each word is basically represented as a vector of 32 or more dimensions instead of a single number\n",
    "   - The sementic information and the relation between different words is also preserved\n",
    "   \n",
    "### Visual representation - word2vec\n",
    "\n",
    "<img src=\"vr-word2vec.jpeg\">"
   ]
  },
  {
   "cell_type": "markdown",
   "metadata": {},
   "source": [
    "### Steps To create Word2vec\n",
    "\n",
    "    - Tokenization of the sentences\n",
    "    - Create Histograms\n",
    "    - Take most frequent words\n",
    "    - Create a metrix with all the unique words. it also represent the occurrence relation between the words"
   ]
  },
  {
   "cell_type": "markdown",
   "metadata": {},
   "source": [
    "## Import Libraries "
   ]
  },
  {
   "cell_type": "code",
   "execution_count": 5,
   "metadata": {},
   "outputs": [
    {
     "name": "stdout",
     "output_type": "stream",
     "text": [
      "Collecting gensim\n",
      "  Using cached gensim-4.0.1-cp38-cp38-win_amd64.whl (23.9 MB)\n",
      "Requirement already satisfied: scipy>=0.18.1 in c:\\users\\bash_toor\\anaconda3\\lib\\site-packages (from gensim) (1.5.2)\n",
      "Requirement already satisfied: numpy>=1.11.3 in c:\\users\\bash_toor\\anaconda3\\lib\\site-packages (from gensim) (1.19.2)\n",
      "Requirement already satisfied: Cython==0.29.21 in c:\\users\\bash_toor\\anaconda3\\lib\\site-packages (from gensim) (0.29.21)\n",
      "Requirement already satisfied: smart-open>=1.8.1 in c:\\users\\bash_toor\\anaconda3\\lib\\site-packages (from gensim) (5.1.0)\n",
      "Installing collected packages: gensim\n",
      "Successfully installed gensim-4.0.1\n"
     ]
    }
   ],
   "source": [
    "try:\n",
    "    !pip install gensim\n",
    "except:\n",
    "  print(\"An exception occurred\")"
   ]
  },
  {
   "cell_type": "code",
   "execution_count": 31,
   "metadata": {},
   "outputs": [],
   "source": [
    "import nltk\n",
    "from gensim.models import Word2Vec, keyedvectors\n",
    "from nltk.corpus import stopwords\n",
    "import re"
   ]
  },
  {
   "cell_type": "code",
   "execution_count": 9,
   "metadata": {},
   "outputs": [],
   "source": [
    "english_text = \"\"\"Perhaps one of the most significant advances in  made by Arabic mathematics began at this time with the work of al-Khwarizmi, namely the beginnings of algebra. It is important to understand just how significant this new idea was. It was a revolutionary move away from the Greek concept of mathematics which was essentially geometry. Algebra was a unifying theory which allowedrational numbers,irrational numbers, geometrical magnitudes, etc., to all be treated as \\\"algebraic objects\\\". It gave mathematics a whole new development path so much broader in concept to that which had existed before, and provided a vehicle for future development of the subject. Another important aspect of the introduction of algebraic ideas was that it allowed mathematics to be applied to itselfin a way which had not happened before.\"\"\""
   ]
  },
  {
   "cell_type": "code",
   "execution_count": 7,
   "metadata": {},
   "outputs": [
    {
     "data": {
      "text/plain": [
       "'Perhaps one of the most significant advances in  made by Arabic mathematics began at this time with the work of al-Khwarizmi, namely the beginnings of algebra. It is important to understand just how significant this new idea was. It was a revolutionary move away from the Greek concept of mathematics which was essentially geometry. Algebra was a unifying theory which allowedrational numbers,irrational numbers, geometrical magnitudes, etc., to all be treated as \"algebraic objects\". It gave mathematics a whole new development path so much broader in concept to that which had existed before, and provided a vehicle for future development of the subject. Another important aspect of the introduction of algebraic ideas was that it allowed mathematics to be applied to itselfin a way which had not happened before.'"
      ]
     },
     "execution_count": 7,
     "metadata": {},
     "output_type": "execute_result"
    }
   ],
   "source": [
    "english_text"
   ]
  },
  {
   "cell_type": "markdown",
   "metadata": {},
   "source": [
    "### Data Cleaning"
   ]
  },
  {
   "cell_type": "code",
   "execution_count": 10,
   "metadata": {},
   "outputs": [],
   "source": [
    "english_sentences = nltk.sent_tokenize(english_text)"
   ]
  },
  {
   "cell_type": "code",
   "execution_count": 12,
   "metadata": {},
   "outputs": [],
   "source": [
    "english_corpus = []\n",
    "\n",
    "for i in range(len(english_sentences)):\n",
    "    # work with only text\n",
    "    cleaning_text = re.sub('[^a-zA-Z]', ' ', english_sentences[i])\n",
    "    # text to lower case\n",
    "    cleaning_text = cleaning_text.lower()\n",
    "    # tokenize each sentence\n",
    "    cleaning_text = cleaning_text.split()\n",
    "    # lematize each word\n",
    "    sentence_lem = [word for word in cleaning_text if not word in set(stopwords.words(\"english\"))]\n",
    "    sentence = ' '.join(sentence_lem)\n",
    "    english_corpus.append(sentence)"
   ]
  },
  {
   "cell_type": "code",
   "execution_count": 13,
   "metadata": {},
   "outputs": [
    {
     "data": {
      "text/plain": [
       "['perhaps one significant advances made arabic mathematics began time work al khwarizmi namely beginnings algebra',\n",
       " 'important understand significant new idea',\n",
       " 'revolutionary move away greek concept mathematics essentially geometry',\n",
       " 'algebra unifying theory allowedrational numbers irrational numbers geometrical magnitudes etc treated algebraic objects',\n",
       " 'gave mathematics whole new development path much broader concept existed provided vehicle future development subject',\n",
       " 'another important aspect introduction algebraic ideas allowed mathematics applied itselfin way happened']"
      ]
     },
     "execution_count": 13,
     "metadata": {},
     "output_type": "execute_result"
    }
   ],
   "source": [
    "english_corpus"
   ]
  },
  {
   "cell_type": "markdown",
   "metadata": {},
   "source": [
    "## Word2vec"
   ]
  },
  {
   "cell_type": "code",
   "execution_count": 59,
   "metadata": {},
   "outputs": [
    {
     "data": {
      "text/plain": [
       "[['perhaps',\n",
       "  'one',\n",
       "  'significant',\n",
       "  'advances',\n",
       "  'made',\n",
       "  'arabic',\n",
       "  'mathematics',\n",
       "  'began',\n",
       "  'time',\n",
       "  'work',\n",
       "  'al',\n",
       "  'khwarizmi',\n",
       "  'namely',\n",
       "  'beginnings',\n",
       "  'algebra'],\n",
       " ['important', 'understand', 'significant', 'new', 'idea'],\n",
       " ['revolutionary',\n",
       "  'move',\n",
       "  'away',\n",
       "  'greek',\n",
       "  'concept',\n",
       "  'mathematics',\n",
       "  'essentially',\n",
       "  'geometry'],\n",
       " ['algebra',\n",
       "  'unifying',\n",
       "  'theory',\n",
       "  'allowedrational',\n",
       "  'numbers',\n",
       "  'irrational',\n",
       "  'numbers',\n",
       "  'geometrical',\n",
       "  'magnitudes',\n",
       "  'etc',\n",
       "  'treated',\n",
       "  'algebraic',\n",
       "  'objects'],\n",
       " ['gave',\n",
       "  'mathematics',\n",
       "  'whole',\n",
       "  'new',\n",
       "  'development',\n",
       "  'path',\n",
       "  'much',\n",
       "  'broader',\n",
       "  'concept',\n",
       "  'existed',\n",
       "  'provided',\n",
       "  'vehicle',\n",
       "  'future',\n",
       "  'development',\n",
       "  'subject'],\n",
       " ['another',\n",
       "  'important',\n",
       "  'aspect',\n",
       "  'introduction',\n",
       "  'algebraic',\n",
       "  'ideas',\n",
       "  'allowed',\n",
       "  'mathematics',\n",
       "  'applied',\n",
       "  'itselfin',\n",
       "  'way',\n",
       "  'happened']]"
      ]
     },
     "execution_count": 59,
     "metadata": {},
     "output_type": "execute_result"
    }
   ],
   "source": [
    "english_corpus_tokens = [nltk.word_tokenize(sent) for sent in english_corpus]\n",
    "english_corpus_tokens"
   ]
  },
  {
   "cell_type": "code",
   "execution_count": 70,
   "metadata": {},
   "outputs": [],
   "source": [
    "model = Word2Vec(sentences=english_corpus_tokens,max_vocab_size=100, window=5, min_count=1, workers=4)\n",
    "model.save(\"word2vec.model\")"
   ]
  },
  {
   "cell_type": "markdown",
   "metadata": {},
   "source": [
    "with ***min_count*** means if the word apear less than k time just remove it , but we have a very lettle number of corpus so we just go with k = 1"
   ]
  },
  {
   "cell_type": "markdown",
   "metadata": {},
   "source": [
    "## Find the most simalar words"
   ]
  },
  {
   "cell_type": "code",
   "execution_count": 71,
   "metadata": {},
   "outputs": [
    {
     "data": {
      "text/plain": [
       "[('happened', 0.21884359419345856),\n",
       " ('essentially', 0.21634718775749207),\n",
       " ('one', 0.19545789062976837),\n",
       " ('magnitudes', 0.172089621424675),\n",
       " ('provided', 0.1691863238811493),\n",
       " ('allowedrational', 0.15168647468090057),\n",
       " ('applied', 0.14179691672325134),\n",
       " ('etc', 0.12344272434711456),\n",
       " ('objects', 0.11337737739086151),\n",
       " ('way', 0.10848793387413025)]"
      ]
     },
     "execution_count": 71,
     "metadata": {},
     "output_type": "execute_result"
    }
   ],
   "source": [
    "sims = model.wv.most_similar('mathematics', topn=10)\n",
    "sims"
   ]
  },
  {
   "cell_type": "code",
   "execution_count": 72,
   "metadata": {},
   "outputs": [
    {
     "name": "stdout",
     "output_type": "stream",
     "text": [
      "word #0/57 is mathematics\n",
      "word #1/57 is algebra\n",
      "word #2/57 is important\n",
      "word #3/57 is significant\n",
      "word #4/57 is numbers\n",
      "word #5/57 is concept\n",
      "word #6/57 is algebraic\n",
      "word #7/57 is new\n",
      "word #8/57 is development\n",
      "word #9/57 is essentially\n",
      "word #10/57 is greek\n",
      "word #11/57 is away\n",
      "word #12/57 is move\n",
      "word #13/57 is revolutionary\n",
      "word #14/57 is idea\n",
      "word #15/57 is understand\n",
      "word #16/57 is happened\n",
      "word #17/57 is unifying\n",
      "word #18/57 is beginnings\n",
      "word #19/57 is namely\n",
      "word #20/57 is khwarizmi\n",
      "word #21/57 is al\n",
      "word #22/57 is work\n",
      "word #23/57 is time\n",
      "word #24/57 is began\n",
      "word #25/57 is arabic\n",
      "word #26/57 is made\n",
      "word #27/57 is advances\n",
      "word #28/57 is one\n",
      "word #29/57 is geometry\n",
      "word #30/57 is allowedrational\n",
      "word #31/57 is theory\n",
      "word #32/57 is way\n",
      "word #33/57 is itselfin\n",
      "word #34/57 is applied\n",
      "word #35/57 is allowed\n",
      "word #36/57 is ideas\n",
      "word #37/57 is introduction\n",
      "word #38/57 is aspect\n",
      "word #39/57 is another\n",
      "word #40/57 is subject\n",
      "word #41/57 is future\n",
      "word #42/57 is vehicle\n",
      "word #43/57 is provided\n",
      "word #44/57 is existed\n",
      "word #45/57 is broader\n",
      "word #46/57 is much\n",
      "word #47/57 is path\n",
      "word #48/57 is whole\n",
      "word #49/57 is gave\n",
      "word #50/57 is objects\n",
      "word #51/57 is treated\n",
      "word #52/57 is etc\n",
      "word #53/57 is magnitudes\n",
      "word #54/57 is geometrical\n",
      "word #55/57 is irrational\n",
      "word #56/57 is perhaps\n"
     ]
    }
   ],
   "source": [
    "for index, word in enumerate(model.wv.index_to_key):\n",
    "    print(f\"word #{index}/{len(model.wv.index_to_key)} is {word}\")"
   ]
  },
  {
   "cell_type": "markdown",
   "metadata": {},
   "source": [
    "### get the vector of a given word"
   ]
  },
  {
   "cell_type": "code",
   "execution_count": 74,
   "metadata": {},
   "outputs": [
    {
     "data": {
      "text/plain": [
       "array([-8.2448432e-03,  9.3017407e-03, -1.9731275e-04, -1.9713643e-03,\n",
       "        4.6059717e-03, -4.0967749e-03,  2.7472277e-03,  6.9532283e-03,\n",
       "        6.0662227e-03, -7.5135226e-03,  9.3805743e-03,  4.6787788e-03,\n",
       "        3.9655888e-03, -6.2458627e-03,  8.4573152e-03, -2.1487135e-03,\n",
       "        8.8288533e-03, -5.3552347e-03, -8.1358906e-03,  6.8190722e-03,\n",
       "        1.6721791e-03, -2.2069688e-03,  9.5202010e-03,  9.4941193e-03,\n",
       "       -9.7839115e-03,  2.5004668e-03,  6.1588893e-03,  3.8725769e-03,\n",
       "        2.0207369e-03,  4.3002027e-04,  6.7495904e-04, -3.8218624e-03,\n",
       "       -7.1397247e-03, -2.0996237e-03,  3.9335918e-03,  8.8206399e-03,\n",
       "        9.2637045e-03, -5.9778020e-03, -9.4062285e-03,  9.7687161e-03,\n",
       "        3.4348422e-03,  5.1636407e-03,  6.2810839e-03, -2.8027596e-03,\n",
       "        7.3330300e-03,  2.8249149e-03,  2.8792685e-03, -2.3841150e-03,\n",
       "       -3.1231495e-03, -2.3775839e-03,  4.2859283e-03,  7.4012700e-05,\n",
       "       -9.5855510e-03, -9.6692564e-03, -6.1551640e-03, -1.2997685e-04,\n",
       "        1.9910482e-03,  9.4315857e-03,  5.5877944e-03, -4.2955689e-03,\n",
       "        2.8033461e-04,  4.9665906e-03,  7.7020368e-03, -1.1403520e-03,\n",
       "        4.3244148e-03, -5.8081695e-03, -8.0085639e-04,  8.1068156e-03,\n",
       "       -2.3696842e-03, -9.6630724e-03,  5.7759047e-03, -3.9306693e-03,\n",
       "       -1.2181833e-03,  9.9865338e-03, -2.2513126e-03, -4.7630817e-03,\n",
       "       -5.3333086e-03,  6.9870097e-03, -5.7125245e-03,  2.1120061e-03,\n",
       "       -5.2667926e-03,  6.1230697e-03,  4.3558879e-03,  2.6083204e-03,\n",
       "       -1.4975759e-03, -2.7522761e-03,  8.9987917e-03,  5.2202395e-03,\n",
       "       -2.1635869e-03, -9.4738631e-03, -7.4253315e-03, -1.0718998e-03,\n",
       "       -7.8586349e-04, -2.5636354e-03,  9.6970443e-03, -4.6433153e-04,\n",
       "        5.8765532e-03, -7.4452888e-03, -2.5150396e-03, -5.5482760e-03],\n",
       "      dtype=float32)"
      ]
     },
     "execution_count": 74,
     "metadata": {},
     "output_type": "execute_result"
    }
   ],
   "source": [
    "significant_vec = model.wv[\"significant\"]\n",
    "significant_vec"
   ]
  },
  {
   "cell_type": "code",
   "execution_count": 77,
   "metadata": {},
   "outputs": [
    {
     "name": "stdout",
     "output_type": "stream",
     "text": [
      "[('introduction', 0.17697592079639435), ('irrational', 0.17059855163097382), ('namely', 0.14671754837036133), ('happened', 0.14007315039634705), ('away', 0.13959093391895294)]\n"
     ]
    }
   ],
   "source": [
    "print(model.wv.most_similar(positive=['new', 'gave'], topn=5))"
   ]
  },
  {
   "cell_type": "markdown",
   "metadata": {},
   "source": [
    "### Printing Dependencies"
   ]
  },
  {
   "cell_type": "markdown",
   "metadata": {},
   "source": [
    "### Printing Dependencies"
   ]
  },
  {
   "cell_type": "code",
   "execution_count": 78,
   "metadata": {},
   "outputs": [],
   "source": [
    "%load_ext watermark"
   ]
  },
  {
   "cell_type": "code",
   "execution_count": 79,
   "metadata": {},
   "outputs": [
    {
     "name": "stdout",
     "output_type": "stream",
     "text": [
      "gensim: 4.0.1\n",
      "nltk  : 3.5\n",
      "re    : 2.2.1\n",
      "\n"
     ]
    }
   ],
   "source": [
    "%watermark --iversion"
   ]
  },
  {
   "cell_type": "code",
   "execution_count": null,
   "metadata": {},
   "outputs": [],
   "source": []
  }
 ],
 "metadata": {
  "kernelspec": {
   "display_name": "Python 3",
   "language": "python",
   "name": "python3"
  },
  "language_info": {
   "codemirror_mode": {
    "name": "ipython",
    "version": 3
   },
   "file_extension": ".py",
   "mimetype": "text/x-python",
   "name": "python",
   "nbconvert_exporter": "python",
   "pygments_lexer": "ipython3",
   "version": "3.8.5"
  }
 },
 "nbformat": 4,
 "nbformat_minor": 4
}
